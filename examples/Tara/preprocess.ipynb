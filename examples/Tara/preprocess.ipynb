{
 "cells": [
  {
   "cell_type": "code",
   "execution_count": 3,
   "metadata": {
    "ExecuteTime": {
     "end_time": "2020-12-15T07:52:22.828196Z",
     "start_time": "2020-12-15T07:52:19.601327Z"
    },
    "scrolled": true
   },
   "outputs": [
    {
     "name": "stdout",
     "output_type": "stream",
     "text": [
      "Collecting rpy2\n",
      "  Using cached rpy2-3.3.6-cp39-cp39-macosx_10_9_x86_64.whl\n",
      "Requirement already satisfied: jinja2 in /Users/lsimpson/opt/anaconda3/envs/myenv/lib/python3.9/site-packages (from rpy2) (2.11.2)\n",
      "Requirement already satisfied: pytz in /Users/lsimpson/opt/anaconda3/envs/myenv/lib/python3.9/site-packages (from rpy2) (2020.4)\n",
      "Requirement already satisfied: pytest in /Users/lsimpson/opt/anaconda3/envs/myenv/lib/python3.9/site-packages (from rpy2) (6.2.0)\n",
      "Requirement already satisfied: cffi>=1.10.0 in /Users/lsimpson/opt/anaconda3/envs/myenv/lib/python3.9/site-packages (from rpy2) (1.14.4)\n",
      "Requirement already satisfied: pycparser in /Users/lsimpson/opt/anaconda3/envs/myenv/lib/python3.9/site-packages (from cffi>=1.10.0->rpy2) (2.20)\n",
      "Requirement already satisfied: MarkupSafe>=0.23 in /Users/lsimpson/opt/anaconda3/envs/myenv/lib/python3.9/site-packages (from jinja2->rpy2) (1.1.1)\n",
      "Requirement already satisfied: py>=1.8.2 in /Users/lsimpson/opt/anaconda3/envs/myenv/lib/python3.9/site-packages (from pytest->rpy2) (1.10.0)\n",
      "Requirement already satisfied: pluggy<1.0.0a1,>=0.12 in /Users/lsimpson/opt/anaconda3/envs/myenv/lib/python3.9/site-packages (from pytest->rpy2) (0.13.1)\n",
      "Requirement already satisfied: iniconfig in /Users/lsimpson/opt/anaconda3/envs/myenv/lib/python3.9/site-packages (from pytest->rpy2) (1.1.1)\n",
      "Requirement already satisfied: attrs>=19.2.0 in /Users/lsimpson/opt/anaconda3/envs/myenv/lib/python3.9/site-packages (from pytest->rpy2) (20.3.0)\n",
      "Requirement already satisfied: toml in /Users/lsimpson/opt/anaconda3/envs/myenv/lib/python3.9/site-packages (from pytest->rpy2) (0.10.2)\n",
      "Requirement already satisfied: packaging in /Users/lsimpson/opt/anaconda3/envs/myenv/lib/python3.9/site-packages (from pytest->rpy2) (20.8)\n",
      "Requirement already satisfied: pyparsing>=2.0.2 in /Users/lsimpson/opt/anaconda3/envs/myenv/lib/python3.9/site-packages (from packaging->pytest->rpy2) (2.4.7)\n",
      "Collecting tzlocal\n",
      "  Using cached tzlocal-2.1-py2.py3-none-any.whl (16 kB)\n",
      "Requirement already satisfied: pytz in /Users/lsimpson/opt/anaconda3/envs/myenv/lib/python3.9/site-packages (from rpy2) (2020.4)\n",
      "Installing collected packages: tzlocal, rpy2\n",
      "Successfully installed rpy2-3.3.6 tzlocal-2.1\n"
     ]
    }
   ],
   "source": [
    "!pip install rpy2"
   ]
  },
  {
   "cell_type": "code",
   "execution_count": 5,
   "metadata": {
    "ExecuteTime": {
     "end_time": "2020-12-15T07:53:19.498622Z",
     "start_time": "2020-12-15T07:53:18.769177Z"
    }
   },
   "outputs": [],
   "source": [
    "import numpy as np\n",
    "# import rpy in order to read data generated on R\n",
    "import rpy2.robjects as ro\n",
    "from rpy2.robjects.packages import importr"
   ]
  },
  {
   "cell_type": "code",
   "execution_count": 6,
   "metadata": {
    "ExecuteTime": {
     "end_time": "2020-12-15T07:53:20.043822Z",
     "start_time": "2020-12-15T07:53:20.040085Z"
    },
    "scrolled": true
   },
   "outputs": [],
   "source": [
    "# this code code be used in order to import R library Matrix\n",
    "# utils = importr('utils')    \n",
    "# utils.chooseCRANmirror(ind=1) #\n",
    "# utils.install_packages('Matrix')\n",
    "# importr('Matrix')"
   ]
  },
  {
   "cell_type": "code",
   "execution_count": 7,
   "metadata": {
    "ExecuteTime": {
     "end_time": "2020-12-15T07:53:24.211655Z",
     "start_time": "2020-12-15T07:53:20.483000Z"
    }
   },
   "outputs": [
    {
     "name": "stderr",
     "output_type": "stream",
     "text": [
      "R[write to console]: Loading required package: Matrix\n",
      "\n"
     ]
    }
   ],
   "source": [
    "#Open R file tara_sal_processed.RDS\n",
    "file = 'tara_sal_processed.RDS'\n",
    "rds = ro.r['readRDS'](file)\n",
    "\n",
    "rA = ro.r[\"as.matrix\"](rds[4])"
   ]
  },
  {
   "cell_type": "code",
   "execution_count": 8,
   "metadata": {
    "ExecuteTime": {
     "end_time": "2020-12-15T07:53:25.144653Z",
     "start_time": "2020-12-15T07:53:24.214971Z"
    }
   },
   "outputs": [
    {
     "name": "stdout",
     "output_type": "stream",
     "text": [
      "(136,)\n",
      "(136, 8916)\n",
      "(8916, 9615)\n"
     ]
    }
   ],
   "source": [
    "x = np.array(rds[1])\n",
    "y = np.array(rds[0])\n",
    "A = np.array(rA)\n",
    "\n",
    "label_OTU = rds[1].colnames\n",
    "label_sample =rds[1].rownames\n",
    "label_nodes = np.array(list(rA.colnames))\n",
    "label_short = np.array([l.split(\"::\")[-1] for l in label_nodes])\n",
    "print(y.shape)\n",
    "print(x.shape)\n",
    "print(A.shape)"
   ]
  },
  {
   "cell_type": "code",
   "execution_count": 9,
   "metadata": {
    "ExecuteTime": {
     "end_time": "2020-12-15T07:53:25.708590Z",
     "start_time": "2020-12-15T07:53:25.148949Z"
    }
   },
   "outputs": [],
   "source": [
    "ro.r['load'](\"tara_sal_trac.RData\")\n",
    "\n",
    "\n",
    "cvfit = ro.r[\"cvfit\"]\n",
    "cv = cvfit.rx(\"cv\")\n",
    "lambda_1SE = cv.rx(\"lambda_1se\")\n",
    "\n",
    "tr = np.array(ro.r['tr']) - 1  # python index starts at 0 when R index starts at 1"
   ]
  },
  {
   "cell_type": "code",
   "execution_count": 11,
   "metadata": {
    "ExecuteTime": {
     "end_time": "2020-12-15T07:53:30.033688Z",
     "start_time": "2020-12-15T07:53:28.531302Z"
    }
   },
   "outputs": [],
   "source": [
    "np.save('A.npy', A)"
   ]
  },
  {
   "cell_type": "code",
   "execution_count": 12,
   "metadata": {
    "ExecuteTime": {
     "end_time": "2020-12-15T07:54:52.566255Z",
     "start_time": "2020-12-15T07:54:52.508366Z"
    }
   },
   "outputs": [],
   "source": [
    "np.savez('tara.npz', tr=tr, y=y, x=x, label=label_nodes)"
   ]
  }
 ],
 "metadata": {
  "kernelspec": {
   "display_name": "Python 3",
   "language": "python",
   "name": "python3"
  },
  "language_info": {
   "codemirror_mode": {
    "name": "ipython",
    "version": 3
   },
   "file_extension": ".py",
   "mimetype": "text/x-python",
   "name": "python",
   "nbconvert_exporter": "python",
   "pygments_lexer": "ipython3",
   "version": "3.9.1"
  },
  "toc": {
   "base_numbering": 1,
   "nav_menu": {},
   "number_sections": true,
   "sideBar": true,
   "skip_h1_title": false,
   "title_cell": "Table of Contents",
   "title_sidebar": "Contents",
   "toc_cell": false,
   "toc_position": {},
   "toc_section_display": true,
   "toc_window_display": false
  }
 },
 "nbformat": 4,
 "nbformat_minor": 4
}
